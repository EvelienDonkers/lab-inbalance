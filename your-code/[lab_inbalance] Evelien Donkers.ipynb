{
 "cells": [
  {
   "cell_type": "markdown",
   "metadata": {},
   "source": [
    "# Inbalanced Classes\n",
    "## In this lab, we are going to explore a case of imbalanced classes. \n",
    "\n",
    "\n",
    "Like we disussed in class, when we have noisy data, if we are not careful, we can end up fitting our model to the noise in the data and not the 'signal'-- the factors that actually determine the outcome. This is called overfitting, and results in good results in training, and in bad results when the model is applied to real data. Similarly, we could have a model that is too simplistic to accurately model the signal. This produces a model that doesnt work well (ever). \n"
   ]
  },
  {
   "cell_type": "markdown",
   "metadata": {},
   "source": [
    "### First, download the data from: https://www.kaggle.com/ntnu-testimon/paysim1. Import the dataset and provide some discriptive statistics and plots. What do you think will be the important features in determining the outcome?"
   ]
  },
  {
   "cell_type": "code",
   "execution_count": 38,
   "metadata": {},
   "outputs": [],
   "source": [
    "import pandas as pd\n",
    "from sklearn.linear_model import LinearRegression\n",
    "from sklearn.datasets import load_boston\n",
    "from sklearn.preprocessing import PolynomialFeatures, StandardScaler\n",
    "from sklearn.model_selection import train_test_split"
   ]
  },
  {
   "cell_type": "code",
   "execution_count": 2,
   "metadata": {},
   "outputs": [],
   "source": [
    "def british_quality(df):\n",
    "    # this function applies many exploratory techniques to a given dataframe\n",
    "    display(\"Head\",\n",
    "            df.head()\n",
    "            .style\n",
    "            .background_gradient(cmap='Blues')\n",
    "           )\n",
    "    display(\"Data Types\",\n",
    "            df.dtypes\n",
    "            .to_frame()\n",
    "           )\n",
    "    display(\"Data Types Count\",\n",
    "            df.dtypes\n",
    "            .to_frame()[0]\n",
    "            .value_counts()\n",
    "            .to_frame()\n",
    "           )\n",
    "    display(\"Nan Values per Column\",\n",
    "            df.isna()\n",
    "            .sum()\n",
    "            .to_frame()\n",
    "            .sort_values(by=[0], ascending=False)\n",
    "           )\n",
    "    display(\"Descriptive Statistics\",\n",
    "            df.describe()\n",
    "           )\n",
    "    display(\"Correlation Matrix\",\n",
    "            df.corr()\n",
    "            .style.background_gradient(cmap='coolwarm')\n",
    "            .set_precision(2)\n",
    "           )"
   ]
  },
  {
   "cell_type": "code",
   "execution_count": 3,
   "metadata": {},
   "outputs": [
    {
     "data": {
      "text/plain": [
       "'Head'"
      ]
     },
     "metadata": {},
     "output_type": "display_data"
    },
    {
     "data": {
      "text/html": [
       "<style  type=\"text/css\" >\n",
       "    #T_6e09c2a2_1a95_11ea_b1bf_14abc5ed6a0brow0_col0 {\n",
       "            background-color:  #f7fbff;\n",
       "            color:  #000000;\n",
       "        }    #T_6e09c2a2_1a95_11ea_b1bf_14abc5ed6a0brow0_col2 {\n",
       "            background-color:  #0e59a2;\n",
       "            color:  #f1f1f1;\n",
       "        }    #T_6e09c2a2_1a95_11ea_b1bf_14abc5ed6a0brow0_col4 {\n",
       "            background-color:  #08306b;\n",
       "            color:  #f1f1f1;\n",
       "        }    #T_6e09c2a2_1a95_11ea_b1bf_14abc5ed6a0brow0_col5 {\n",
       "            background-color:  #08306b;\n",
       "            color:  #f1f1f1;\n",
       "        }    #T_6e09c2a2_1a95_11ea_b1bf_14abc5ed6a0brow0_col7 {\n",
       "            background-color:  #f7fbff;\n",
       "            color:  #000000;\n",
       "        }    #T_6e09c2a2_1a95_11ea_b1bf_14abc5ed6a0brow0_col8 {\n",
       "            background-color:  #f7fbff;\n",
       "            color:  #000000;\n",
       "        }    #T_6e09c2a2_1a95_11ea_b1bf_14abc5ed6a0brow0_col9 {\n",
       "            background-color:  #f7fbff;\n",
       "            color:  #000000;\n",
       "        }    #T_6e09c2a2_1a95_11ea_b1bf_14abc5ed6a0brow0_col10 {\n",
       "            background-color:  #f7fbff;\n",
       "            color:  #000000;\n",
       "        }    #T_6e09c2a2_1a95_11ea_b1bf_14abc5ed6a0brow1_col0 {\n",
       "            background-color:  #f7fbff;\n",
       "            color:  #000000;\n",
       "        }    #T_6e09c2a2_1a95_11ea_b1bf_14abc5ed6a0brow1_col2 {\n",
       "            background-color:  #dae8f6;\n",
       "            color:  #000000;\n",
       "        }    #T_6e09c2a2_1a95_11ea_b1bf_14abc5ed6a0brow1_col4 {\n",
       "            background-color:  #dfebf7;\n",
       "            color:  #000000;\n",
       "        }    #T_6e09c2a2_1a95_11ea_b1bf_14abc5ed6a0brow1_col5 {\n",
       "            background-color:  #dfecf7;\n",
       "            color:  #000000;\n",
       "        }    #T_6e09c2a2_1a95_11ea_b1bf_14abc5ed6a0brow1_col7 {\n",
       "            background-color:  #f7fbff;\n",
       "            color:  #000000;\n",
       "        }    #T_6e09c2a2_1a95_11ea_b1bf_14abc5ed6a0brow1_col8 {\n",
       "            background-color:  #f7fbff;\n",
       "            color:  #000000;\n",
       "        }    #T_6e09c2a2_1a95_11ea_b1bf_14abc5ed6a0brow1_col9 {\n",
       "            background-color:  #f7fbff;\n",
       "            color:  #000000;\n",
       "        }    #T_6e09c2a2_1a95_11ea_b1bf_14abc5ed6a0brow1_col10 {\n",
       "            background-color:  #f7fbff;\n",
       "            color:  #000000;\n",
       "        }    #T_6e09c2a2_1a95_11ea_b1bf_14abc5ed6a0brow2_col0 {\n",
       "            background-color:  #f7fbff;\n",
       "            color:  #000000;\n",
       "        }    #T_6e09c2a2_1a95_11ea_b1bf_14abc5ed6a0brow2_col2 {\n",
       "            background-color:  #f7fbff;\n",
       "            color:  #000000;\n",
       "        }    #T_6e09c2a2_1a95_11ea_b1bf_14abc5ed6a0brow2_col4 {\n",
       "            background-color:  #f7fbff;\n",
       "            color:  #000000;\n",
       "        }    #T_6e09c2a2_1a95_11ea_b1bf_14abc5ed6a0brow2_col5 {\n",
       "            background-color:  #f7fbff;\n",
       "            color:  #000000;\n",
       "        }    #T_6e09c2a2_1a95_11ea_b1bf_14abc5ed6a0brow2_col7 {\n",
       "            background-color:  #f7fbff;\n",
       "            color:  #000000;\n",
       "        }    #T_6e09c2a2_1a95_11ea_b1bf_14abc5ed6a0brow2_col8 {\n",
       "            background-color:  #f7fbff;\n",
       "            color:  #000000;\n",
       "        }    #T_6e09c2a2_1a95_11ea_b1bf_14abc5ed6a0brow2_col9 {\n",
       "            background-color:  #08306b;\n",
       "            color:  #f1f1f1;\n",
       "        }    #T_6e09c2a2_1a95_11ea_b1bf_14abc5ed6a0brow2_col10 {\n",
       "            background-color:  #f7fbff;\n",
       "            color:  #000000;\n",
       "        }    #T_6e09c2a2_1a95_11ea_b1bf_14abc5ed6a0brow3_col0 {\n",
       "            background-color:  #f7fbff;\n",
       "            color:  #000000;\n",
       "        }    #T_6e09c2a2_1a95_11ea_b1bf_14abc5ed6a0brow3_col2 {\n",
       "            background-color:  #f7fbff;\n",
       "            color:  #000000;\n",
       "        }    #T_6e09c2a2_1a95_11ea_b1bf_14abc5ed6a0brow3_col4 {\n",
       "            background-color:  #f7fbff;\n",
       "            color:  #000000;\n",
       "        }    #T_6e09c2a2_1a95_11ea_b1bf_14abc5ed6a0brow3_col5 {\n",
       "            background-color:  #f7fbff;\n",
       "            color:  #000000;\n",
       "        }    #T_6e09c2a2_1a95_11ea_b1bf_14abc5ed6a0brow3_col7 {\n",
       "            background-color:  #08306b;\n",
       "            color:  #f1f1f1;\n",
       "        }    #T_6e09c2a2_1a95_11ea_b1bf_14abc5ed6a0brow3_col8 {\n",
       "            background-color:  #f7fbff;\n",
       "            color:  #000000;\n",
       "        }    #T_6e09c2a2_1a95_11ea_b1bf_14abc5ed6a0brow3_col9 {\n",
       "            background-color:  #08306b;\n",
       "            color:  #f1f1f1;\n",
       "        }    #T_6e09c2a2_1a95_11ea_b1bf_14abc5ed6a0brow3_col10 {\n",
       "            background-color:  #f7fbff;\n",
       "            color:  #000000;\n",
       "        }    #T_6e09c2a2_1a95_11ea_b1bf_14abc5ed6a0brow4_col0 {\n",
       "            background-color:  #f7fbff;\n",
       "            color:  #000000;\n",
       "        }    #T_6e09c2a2_1a95_11ea_b1bf_14abc5ed6a0brow4_col2 {\n",
       "            background-color:  #08306b;\n",
       "            color:  #f1f1f1;\n",
       "        }    #T_6e09c2a2_1a95_11ea_b1bf_14abc5ed6a0brow4_col4 {\n",
       "            background-color:  #c7dcef;\n",
       "            color:  #000000;\n",
       "        }    #T_6e09c2a2_1a95_11ea_b1bf_14abc5ed6a0brow4_col5 {\n",
       "            background-color:  #d3e3f3;\n",
       "            color:  #000000;\n",
       "        }    #T_6e09c2a2_1a95_11ea_b1bf_14abc5ed6a0brow4_col7 {\n",
       "            background-color:  #f7fbff;\n",
       "            color:  #000000;\n",
       "        }    #T_6e09c2a2_1a95_11ea_b1bf_14abc5ed6a0brow4_col8 {\n",
       "            background-color:  #f7fbff;\n",
       "            color:  #000000;\n",
       "        }    #T_6e09c2a2_1a95_11ea_b1bf_14abc5ed6a0brow4_col9 {\n",
       "            background-color:  #f7fbff;\n",
       "            color:  #000000;\n",
       "        }    #T_6e09c2a2_1a95_11ea_b1bf_14abc5ed6a0brow4_col10 {\n",
       "            background-color:  #f7fbff;\n",
       "            color:  #000000;\n",
       "        }</style><table id=\"T_6e09c2a2_1a95_11ea_b1bf_14abc5ed6a0b\" ><thead>    <tr>        <th class=\"blank level0\" ></th>        <th class=\"col_heading level0 col0\" >step</th>        <th class=\"col_heading level0 col1\" >type</th>        <th class=\"col_heading level0 col2\" >amount</th>        <th class=\"col_heading level0 col3\" >nameOrig</th>        <th class=\"col_heading level0 col4\" >oldbalanceOrg</th>        <th class=\"col_heading level0 col5\" >newbalanceOrig</th>        <th class=\"col_heading level0 col6\" >nameDest</th>        <th class=\"col_heading level0 col7\" >oldbalanceDest</th>        <th class=\"col_heading level0 col8\" >newbalanceDest</th>        <th class=\"col_heading level0 col9\" >isFraud</th>        <th class=\"col_heading level0 col10\" >isFlaggedFraud</th>    </tr></thead><tbody>\n",
       "                <tr>\n",
       "                        <th id=\"T_6e09c2a2_1a95_11ea_b1bf_14abc5ed6a0blevel0_row0\" class=\"row_heading level0 row0\" >0</th>\n",
       "                        <td id=\"T_6e09c2a2_1a95_11ea_b1bf_14abc5ed6a0brow0_col0\" class=\"data row0 col0\" >1</td>\n",
       "                        <td id=\"T_6e09c2a2_1a95_11ea_b1bf_14abc5ed6a0brow0_col1\" class=\"data row0 col1\" >PAYMENT</td>\n",
       "                        <td id=\"T_6e09c2a2_1a95_11ea_b1bf_14abc5ed6a0brow0_col2\" class=\"data row0 col2\" >9839.64</td>\n",
       "                        <td id=\"T_6e09c2a2_1a95_11ea_b1bf_14abc5ed6a0brow0_col3\" class=\"data row0 col3\" >C1231006815</td>\n",
       "                        <td id=\"T_6e09c2a2_1a95_11ea_b1bf_14abc5ed6a0brow0_col4\" class=\"data row0 col4\" >170136</td>\n",
       "                        <td id=\"T_6e09c2a2_1a95_11ea_b1bf_14abc5ed6a0brow0_col5\" class=\"data row0 col5\" >160296</td>\n",
       "                        <td id=\"T_6e09c2a2_1a95_11ea_b1bf_14abc5ed6a0brow0_col6\" class=\"data row0 col6\" >M1979787155</td>\n",
       "                        <td id=\"T_6e09c2a2_1a95_11ea_b1bf_14abc5ed6a0brow0_col7\" class=\"data row0 col7\" >0</td>\n",
       "                        <td id=\"T_6e09c2a2_1a95_11ea_b1bf_14abc5ed6a0brow0_col8\" class=\"data row0 col8\" >0</td>\n",
       "                        <td id=\"T_6e09c2a2_1a95_11ea_b1bf_14abc5ed6a0brow0_col9\" class=\"data row0 col9\" >0</td>\n",
       "                        <td id=\"T_6e09c2a2_1a95_11ea_b1bf_14abc5ed6a0brow0_col10\" class=\"data row0 col10\" >0</td>\n",
       "            </tr>\n",
       "            <tr>\n",
       "                        <th id=\"T_6e09c2a2_1a95_11ea_b1bf_14abc5ed6a0blevel0_row1\" class=\"row_heading level0 row1\" >1</th>\n",
       "                        <td id=\"T_6e09c2a2_1a95_11ea_b1bf_14abc5ed6a0brow1_col0\" class=\"data row1 col0\" >1</td>\n",
       "                        <td id=\"T_6e09c2a2_1a95_11ea_b1bf_14abc5ed6a0brow1_col1\" class=\"data row1 col1\" >PAYMENT</td>\n",
       "                        <td id=\"T_6e09c2a2_1a95_11ea_b1bf_14abc5ed6a0brow1_col2\" class=\"data row1 col2\" >1864.28</td>\n",
       "                        <td id=\"T_6e09c2a2_1a95_11ea_b1bf_14abc5ed6a0brow1_col3\" class=\"data row1 col3\" >C1666544295</td>\n",
       "                        <td id=\"T_6e09c2a2_1a95_11ea_b1bf_14abc5ed6a0brow1_col4\" class=\"data row1 col4\" >21249</td>\n",
       "                        <td id=\"T_6e09c2a2_1a95_11ea_b1bf_14abc5ed6a0brow1_col5\" class=\"data row1 col5\" >19384.7</td>\n",
       "                        <td id=\"T_6e09c2a2_1a95_11ea_b1bf_14abc5ed6a0brow1_col6\" class=\"data row1 col6\" >M2044282225</td>\n",
       "                        <td id=\"T_6e09c2a2_1a95_11ea_b1bf_14abc5ed6a0brow1_col7\" class=\"data row1 col7\" >0</td>\n",
       "                        <td id=\"T_6e09c2a2_1a95_11ea_b1bf_14abc5ed6a0brow1_col8\" class=\"data row1 col8\" >0</td>\n",
       "                        <td id=\"T_6e09c2a2_1a95_11ea_b1bf_14abc5ed6a0brow1_col9\" class=\"data row1 col9\" >0</td>\n",
       "                        <td id=\"T_6e09c2a2_1a95_11ea_b1bf_14abc5ed6a0brow1_col10\" class=\"data row1 col10\" >0</td>\n",
       "            </tr>\n",
       "            <tr>\n",
       "                        <th id=\"T_6e09c2a2_1a95_11ea_b1bf_14abc5ed6a0blevel0_row2\" class=\"row_heading level0 row2\" >2</th>\n",
       "                        <td id=\"T_6e09c2a2_1a95_11ea_b1bf_14abc5ed6a0brow2_col0\" class=\"data row2 col0\" >1</td>\n",
       "                        <td id=\"T_6e09c2a2_1a95_11ea_b1bf_14abc5ed6a0brow2_col1\" class=\"data row2 col1\" >TRANSFER</td>\n",
       "                        <td id=\"T_6e09c2a2_1a95_11ea_b1bf_14abc5ed6a0brow2_col2\" class=\"data row2 col2\" >181</td>\n",
       "                        <td id=\"T_6e09c2a2_1a95_11ea_b1bf_14abc5ed6a0brow2_col3\" class=\"data row2 col3\" >C1305486145</td>\n",
       "                        <td id=\"T_6e09c2a2_1a95_11ea_b1bf_14abc5ed6a0brow2_col4\" class=\"data row2 col4\" >181</td>\n",
       "                        <td id=\"T_6e09c2a2_1a95_11ea_b1bf_14abc5ed6a0brow2_col5\" class=\"data row2 col5\" >0</td>\n",
       "                        <td id=\"T_6e09c2a2_1a95_11ea_b1bf_14abc5ed6a0brow2_col6\" class=\"data row2 col6\" >C553264065</td>\n",
       "                        <td id=\"T_6e09c2a2_1a95_11ea_b1bf_14abc5ed6a0brow2_col7\" class=\"data row2 col7\" >0</td>\n",
       "                        <td id=\"T_6e09c2a2_1a95_11ea_b1bf_14abc5ed6a0brow2_col8\" class=\"data row2 col8\" >0</td>\n",
       "                        <td id=\"T_6e09c2a2_1a95_11ea_b1bf_14abc5ed6a0brow2_col9\" class=\"data row2 col9\" >1</td>\n",
       "                        <td id=\"T_6e09c2a2_1a95_11ea_b1bf_14abc5ed6a0brow2_col10\" class=\"data row2 col10\" >0</td>\n",
       "            </tr>\n",
       "            <tr>\n",
       "                        <th id=\"T_6e09c2a2_1a95_11ea_b1bf_14abc5ed6a0blevel0_row3\" class=\"row_heading level0 row3\" >3</th>\n",
       "                        <td id=\"T_6e09c2a2_1a95_11ea_b1bf_14abc5ed6a0brow3_col0\" class=\"data row3 col0\" >1</td>\n",
       "                        <td id=\"T_6e09c2a2_1a95_11ea_b1bf_14abc5ed6a0brow3_col1\" class=\"data row3 col1\" >CASH_OUT</td>\n",
       "                        <td id=\"T_6e09c2a2_1a95_11ea_b1bf_14abc5ed6a0brow3_col2\" class=\"data row3 col2\" >181</td>\n",
       "                        <td id=\"T_6e09c2a2_1a95_11ea_b1bf_14abc5ed6a0brow3_col3\" class=\"data row3 col3\" >C840083671</td>\n",
       "                        <td id=\"T_6e09c2a2_1a95_11ea_b1bf_14abc5ed6a0brow3_col4\" class=\"data row3 col4\" >181</td>\n",
       "                        <td id=\"T_6e09c2a2_1a95_11ea_b1bf_14abc5ed6a0brow3_col5\" class=\"data row3 col5\" >0</td>\n",
       "                        <td id=\"T_6e09c2a2_1a95_11ea_b1bf_14abc5ed6a0brow3_col6\" class=\"data row3 col6\" >C38997010</td>\n",
       "                        <td id=\"T_6e09c2a2_1a95_11ea_b1bf_14abc5ed6a0brow3_col7\" class=\"data row3 col7\" >21182</td>\n",
       "                        <td id=\"T_6e09c2a2_1a95_11ea_b1bf_14abc5ed6a0brow3_col8\" class=\"data row3 col8\" >0</td>\n",
       "                        <td id=\"T_6e09c2a2_1a95_11ea_b1bf_14abc5ed6a0brow3_col9\" class=\"data row3 col9\" >1</td>\n",
       "                        <td id=\"T_6e09c2a2_1a95_11ea_b1bf_14abc5ed6a0brow3_col10\" class=\"data row3 col10\" >0</td>\n",
       "            </tr>\n",
       "            <tr>\n",
       "                        <th id=\"T_6e09c2a2_1a95_11ea_b1bf_14abc5ed6a0blevel0_row4\" class=\"row_heading level0 row4\" >4</th>\n",
       "                        <td id=\"T_6e09c2a2_1a95_11ea_b1bf_14abc5ed6a0brow4_col0\" class=\"data row4 col0\" >1</td>\n",
       "                        <td id=\"T_6e09c2a2_1a95_11ea_b1bf_14abc5ed6a0brow4_col1\" class=\"data row4 col1\" >PAYMENT</td>\n",
       "                        <td id=\"T_6e09c2a2_1a95_11ea_b1bf_14abc5ed6a0brow4_col2\" class=\"data row4 col2\" >11668.1</td>\n",
       "                        <td id=\"T_6e09c2a2_1a95_11ea_b1bf_14abc5ed6a0brow4_col3\" class=\"data row4 col3\" >C2048537720</td>\n",
       "                        <td id=\"T_6e09c2a2_1a95_11ea_b1bf_14abc5ed6a0brow4_col4\" class=\"data row4 col4\" >41554</td>\n",
       "                        <td id=\"T_6e09c2a2_1a95_11ea_b1bf_14abc5ed6a0brow4_col5\" class=\"data row4 col5\" >29885.9</td>\n",
       "                        <td id=\"T_6e09c2a2_1a95_11ea_b1bf_14abc5ed6a0brow4_col6\" class=\"data row4 col6\" >M1230701703</td>\n",
       "                        <td id=\"T_6e09c2a2_1a95_11ea_b1bf_14abc5ed6a0brow4_col7\" class=\"data row4 col7\" >0</td>\n",
       "                        <td id=\"T_6e09c2a2_1a95_11ea_b1bf_14abc5ed6a0brow4_col8\" class=\"data row4 col8\" >0</td>\n",
       "                        <td id=\"T_6e09c2a2_1a95_11ea_b1bf_14abc5ed6a0brow4_col9\" class=\"data row4 col9\" >0</td>\n",
       "                        <td id=\"T_6e09c2a2_1a95_11ea_b1bf_14abc5ed6a0brow4_col10\" class=\"data row4 col10\" >0</td>\n",
       "            </tr>\n",
       "    </tbody></table>"
      ],
      "text/plain": [
       "<pandas.io.formats.style.Styler at 0x23b58f3e160>"
      ]
     },
     "metadata": {},
     "output_type": "display_data"
    },
    {
     "data": {
      "text/plain": [
       "'Data Types'"
      ]
     },
     "metadata": {},
     "output_type": "display_data"
    },
    {
     "data": {
      "text/html": [
       "<div>\n",
       "<style scoped>\n",
       "    .dataframe tbody tr th:only-of-type {\n",
       "        vertical-align: middle;\n",
       "    }\n",
       "\n",
       "    .dataframe tbody tr th {\n",
       "        vertical-align: top;\n",
       "    }\n",
       "\n",
       "    .dataframe thead th {\n",
       "        text-align: right;\n",
       "    }\n",
       "</style>\n",
       "<table border=\"1\" class=\"dataframe\">\n",
       "  <thead>\n",
       "    <tr style=\"text-align: right;\">\n",
       "      <th></th>\n",
       "      <th>0</th>\n",
       "    </tr>\n",
       "  </thead>\n",
       "  <tbody>\n",
       "    <tr>\n",
       "      <th>step</th>\n",
       "      <td>int64</td>\n",
       "    </tr>\n",
       "    <tr>\n",
       "      <th>type</th>\n",
       "      <td>object</td>\n",
       "    </tr>\n",
       "    <tr>\n",
       "      <th>amount</th>\n",
       "      <td>float64</td>\n",
       "    </tr>\n",
       "    <tr>\n",
       "      <th>nameOrig</th>\n",
       "      <td>object</td>\n",
       "    </tr>\n",
       "    <tr>\n",
       "      <th>oldbalanceOrg</th>\n",
       "      <td>float64</td>\n",
       "    </tr>\n",
       "    <tr>\n",
       "      <th>newbalanceOrig</th>\n",
       "      <td>float64</td>\n",
       "    </tr>\n",
       "    <tr>\n",
       "      <th>nameDest</th>\n",
       "      <td>object</td>\n",
       "    </tr>\n",
       "    <tr>\n",
       "      <th>oldbalanceDest</th>\n",
       "      <td>float64</td>\n",
       "    </tr>\n",
       "    <tr>\n",
       "      <th>newbalanceDest</th>\n",
       "      <td>float64</td>\n",
       "    </tr>\n",
       "    <tr>\n",
       "      <th>isFraud</th>\n",
       "      <td>int64</td>\n",
       "    </tr>\n",
       "    <tr>\n",
       "      <th>isFlaggedFraud</th>\n",
       "      <td>int64</td>\n",
       "    </tr>\n",
       "  </tbody>\n",
       "</table>\n",
       "</div>"
      ],
      "text/plain": [
       "                      0\n",
       "step              int64\n",
       "type             object\n",
       "amount          float64\n",
       "nameOrig         object\n",
       "oldbalanceOrg   float64\n",
       "newbalanceOrig  float64\n",
       "nameDest         object\n",
       "oldbalanceDest  float64\n",
       "newbalanceDest  float64\n",
       "isFraud           int64\n",
       "isFlaggedFraud    int64"
      ]
     },
     "metadata": {},
     "output_type": "display_data"
    },
    {
     "data": {
      "text/plain": [
       "'Data Types Count'"
      ]
     },
     "metadata": {},
     "output_type": "display_data"
    },
    {
     "data": {
      "text/html": [
       "<div>\n",
       "<style scoped>\n",
       "    .dataframe tbody tr th:only-of-type {\n",
       "        vertical-align: middle;\n",
       "    }\n",
       "\n",
       "    .dataframe tbody tr th {\n",
       "        vertical-align: top;\n",
       "    }\n",
       "\n",
       "    .dataframe thead th {\n",
       "        text-align: right;\n",
       "    }\n",
       "</style>\n",
       "<table border=\"1\" class=\"dataframe\">\n",
       "  <thead>\n",
       "    <tr style=\"text-align: right;\">\n",
       "      <th></th>\n",
       "      <th>0</th>\n",
       "    </tr>\n",
       "  </thead>\n",
       "  <tbody>\n",
       "    <tr>\n",
       "      <th>float64</th>\n",
       "      <td>5</td>\n",
       "    </tr>\n",
       "    <tr>\n",
       "      <th>object</th>\n",
       "      <td>3</td>\n",
       "    </tr>\n",
       "    <tr>\n",
       "      <th>int64</th>\n",
       "      <td>3</td>\n",
       "    </tr>\n",
       "  </tbody>\n",
       "</table>\n",
       "</div>"
      ],
      "text/plain": [
       "         0\n",
       "float64  5\n",
       "object   3\n",
       "int64    3"
      ]
     },
     "metadata": {},
     "output_type": "display_data"
    },
    {
     "data": {
      "text/plain": [
       "'Nan Values per Column'"
      ]
     },
     "metadata": {},
     "output_type": "display_data"
    },
    {
     "data": {
      "text/html": [
       "<div>\n",
       "<style scoped>\n",
       "    .dataframe tbody tr th:only-of-type {\n",
       "        vertical-align: middle;\n",
       "    }\n",
       "\n",
       "    .dataframe tbody tr th {\n",
       "        vertical-align: top;\n",
       "    }\n",
       "\n",
       "    .dataframe thead th {\n",
       "        text-align: right;\n",
       "    }\n",
       "</style>\n",
       "<table border=\"1\" class=\"dataframe\">\n",
       "  <thead>\n",
       "    <tr style=\"text-align: right;\">\n",
       "      <th></th>\n",
       "      <th>0</th>\n",
       "    </tr>\n",
       "  </thead>\n",
       "  <tbody>\n",
       "    <tr>\n",
       "      <th>step</th>\n",
       "      <td>0</td>\n",
       "    </tr>\n",
       "    <tr>\n",
       "      <th>type</th>\n",
       "      <td>0</td>\n",
       "    </tr>\n",
       "    <tr>\n",
       "      <th>amount</th>\n",
       "      <td>0</td>\n",
       "    </tr>\n",
       "    <tr>\n",
       "      <th>nameOrig</th>\n",
       "      <td>0</td>\n",
       "    </tr>\n",
       "    <tr>\n",
       "      <th>oldbalanceOrg</th>\n",
       "      <td>0</td>\n",
       "    </tr>\n",
       "    <tr>\n",
       "      <th>newbalanceOrig</th>\n",
       "      <td>0</td>\n",
       "    </tr>\n",
       "    <tr>\n",
       "      <th>nameDest</th>\n",
       "      <td>0</td>\n",
       "    </tr>\n",
       "    <tr>\n",
       "      <th>oldbalanceDest</th>\n",
       "      <td>0</td>\n",
       "    </tr>\n",
       "    <tr>\n",
       "      <th>newbalanceDest</th>\n",
       "      <td>0</td>\n",
       "    </tr>\n",
       "    <tr>\n",
       "      <th>isFraud</th>\n",
       "      <td>0</td>\n",
       "    </tr>\n",
       "    <tr>\n",
       "      <th>isFlaggedFraud</th>\n",
       "      <td>0</td>\n",
       "    </tr>\n",
       "  </tbody>\n",
       "</table>\n",
       "</div>"
      ],
      "text/plain": [
       "                0\n",
       "step            0\n",
       "type            0\n",
       "amount          0\n",
       "nameOrig        0\n",
       "oldbalanceOrg   0\n",
       "newbalanceOrig  0\n",
       "nameDest        0\n",
       "oldbalanceDest  0\n",
       "newbalanceDest  0\n",
       "isFraud         0\n",
       "isFlaggedFraud  0"
      ]
     },
     "metadata": {},
     "output_type": "display_data"
    },
    {
     "data": {
      "text/plain": [
       "'Descriptive Statistics'"
      ]
     },
     "metadata": {},
     "output_type": "display_data"
    },
    {
     "data": {
      "text/html": [
       "<div>\n",
       "<style scoped>\n",
       "    .dataframe tbody tr th:only-of-type {\n",
       "        vertical-align: middle;\n",
       "    }\n",
       "\n",
       "    .dataframe tbody tr th {\n",
       "        vertical-align: top;\n",
       "    }\n",
       "\n",
       "    .dataframe thead th {\n",
       "        text-align: right;\n",
       "    }\n",
       "</style>\n",
       "<table border=\"1\" class=\"dataframe\">\n",
       "  <thead>\n",
       "    <tr style=\"text-align: right;\">\n",
       "      <th></th>\n",
       "      <th>step</th>\n",
       "      <th>amount</th>\n",
       "      <th>oldbalanceOrg</th>\n",
       "      <th>newbalanceOrig</th>\n",
       "      <th>oldbalanceDest</th>\n",
       "      <th>newbalanceDest</th>\n",
       "      <th>isFraud</th>\n",
       "      <th>isFlaggedFraud</th>\n",
       "    </tr>\n",
       "  </thead>\n",
       "  <tbody>\n",
       "    <tr>\n",
       "      <th>count</th>\n",
       "      <td>6.362620e+06</td>\n",
       "      <td>6.362620e+06</td>\n",
       "      <td>6.362620e+06</td>\n",
       "      <td>6.362620e+06</td>\n",
       "      <td>6.362620e+06</td>\n",
       "      <td>6.362620e+06</td>\n",
       "      <td>6.362620e+06</td>\n",
       "      <td>6.362620e+06</td>\n",
       "    </tr>\n",
       "    <tr>\n",
       "      <th>mean</th>\n",
       "      <td>2.433972e+02</td>\n",
       "      <td>1.798619e+05</td>\n",
       "      <td>8.338831e+05</td>\n",
       "      <td>8.551137e+05</td>\n",
       "      <td>1.100702e+06</td>\n",
       "      <td>1.224996e+06</td>\n",
       "      <td>1.290820e-03</td>\n",
       "      <td>2.514687e-06</td>\n",
       "    </tr>\n",
       "    <tr>\n",
       "      <th>std</th>\n",
       "      <td>1.423320e+02</td>\n",
       "      <td>6.038582e+05</td>\n",
       "      <td>2.888243e+06</td>\n",
       "      <td>2.924049e+06</td>\n",
       "      <td>3.399180e+06</td>\n",
       "      <td>3.674129e+06</td>\n",
       "      <td>3.590480e-02</td>\n",
       "      <td>1.585775e-03</td>\n",
       "    </tr>\n",
       "    <tr>\n",
       "      <th>min</th>\n",
       "      <td>1.000000e+00</td>\n",
       "      <td>0.000000e+00</td>\n",
       "      <td>0.000000e+00</td>\n",
       "      <td>0.000000e+00</td>\n",
       "      <td>0.000000e+00</td>\n",
       "      <td>0.000000e+00</td>\n",
       "      <td>0.000000e+00</td>\n",
       "      <td>0.000000e+00</td>\n",
       "    </tr>\n",
       "    <tr>\n",
       "      <th>25%</th>\n",
       "      <td>1.560000e+02</td>\n",
       "      <td>1.338957e+04</td>\n",
       "      <td>0.000000e+00</td>\n",
       "      <td>0.000000e+00</td>\n",
       "      <td>0.000000e+00</td>\n",
       "      <td>0.000000e+00</td>\n",
       "      <td>0.000000e+00</td>\n",
       "      <td>0.000000e+00</td>\n",
       "    </tr>\n",
       "    <tr>\n",
       "      <th>50%</th>\n",
       "      <td>2.390000e+02</td>\n",
       "      <td>7.487194e+04</td>\n",
       "      <td>1.420800e+04</td>\n",
       "      <td>0.000000e+00</td>\n",
       "      <td>1.327057e+05</td>\n",
       "      <td>2.146614e+05</td>\n",
       "      <td>0.000000e+00</td>\n",
       "      <td>0.000000e+00</td>\n",
       "    </tr>\n",
       "    <tr>\n",
       "      <th>75%</th>\n",
       "      <td>3.350000e+02</td>\n",
       "      <td>2.087215e+05</td>\n",
       "      <td>1.073152e+05</td>\n",
       "      <td>1.442584e+05</td>\n",
       "      <td>9.430367e+05</td>\n",
       "      <td>1.111909e+06</td>\n",
       "      <td>0.000000e+00</td>\n",
       "      <td>0.000000e+00</td>\n",
       "    </tr>\n",
       "    <tr>\n",
       "      <th>max</th>\n",
       "      <td>7.430000e+02</td>\n",
       "      <td>9.244552e+07</td>\n",
       "      <td>5.958504e+07</td>\n",
       "      <td>4.958504e+07</td>\n",
       "      <td>3.560159e+08</td>\n",
       "      <td>3.561793e+08</td>\n",
       "      <td>1.000000e+00</td>\n",
       "      <td>1.000000e+00</td>\n",
       "    </tr>\n",
       "  </tbody>\n",
       "</table>\n",
       "</div>"
      ],
      "text/plain": [
       "               step        amount  oldbalanceOrg  newbalanceOrig  \\\n",
       "count  6.362620e+06  6.362620e+06   6.362620e+06    6.362620e+06   \n",
       "mean   2.433972e+02  1.798619e+05   8.338831e+05    8.551137e+05   \n",
       "std    1.423320e+02  6.038582e+05   2.888243e+06    2.924049e+06   \n",
       "min    1.000000e+00  0.000000e+00   0.000000e+00    0.000000e+00   \n",
       "25%    1.560000e+02  1.338957e+04   0.000000e+00    0.000000e+00   \n",
       "50%    2.390000e+02  7.487194e+04   1.420800e+04    0.000000e+00   \n",
       "75%    3.350000e+02  2.087215e+05   1.073152e+05    1.442584e+05   \n",
       "max    7.430000e+02  9.244552e+07   5.958504e+07    4.958504e+07   \n",
       "\n",
       "       oldbalanceDest  newbalanceDest       isFraud  isFlaggedFraud  \n",
       "count    6.362620e+06    6.362620e+06  6.362620e+06    6.362620e+06  \n",
       "mean     1.100702e+06    1.224996e+06  1.290820e-03    2.514687e-06  \n",
       "std      3.399180e+06    3.674129e+06  3.590480e-02    1.585775e-03  \n",
       "min      0.000000e+00    0.000000e+00  0.000000e+00    0.000000e+00  \n",
       "25%      0.000000e+00    0.000000e+00  0.000000e+00    0.000000e+00  \n",
       "50%      1.327057e+05    2.146614e+05  0.000000e+00    0.000000e+00  \n",
       "75%      9.430367e+05    1.111909e+06  0.000000e+00    0.000000e+00  \n",
       "max      3.560159e+08    3.561793e+08  1.000000e+00    1.000000e+00  "
      ]
     },
     "metadata": {},
     "output_type": "display_data"
    },
    {
     "data": {
      "text/plain": [
       "'Correlation Matrix'"
      ]
     },
     "metadata": {},
     "output_type": "display_data"
    },
    {
     "data": {
      "text/html": [
       "<style  type=\"text/css\" >\n",
       "    #T_7129e2a4_1a95_11ea_8c83_14abc5ed6a0brow0_col0 {\n",
       "            background-color:  #b40426;\n",
       "            color:  #f1f1f1;\n",
       "        }    #T_7129e2a4_1a95_11ea_8c83_14abc5ed6a0brow0_col1 {\n",
       "            background-color:  #4358cb;\n",
       "            color:  #f1f1f1;\n",
       "        }    #T_7129e2a4_1a95_11ea_8c83_14abc5ed6a0brow0_col2 {\n",
       "            background-color:  #3b4cc0;\n",
       "            color:  #f1f1f1;\n",
       "        }    #T_7129e2a4_1a95_11ea_8c83_14abc5ed6a0brow0_col3 {\n",
       "            background-color:  #3b4cc0;\n",
       "            color:  #f1f1f1;\n",
       "        }    #T_7129e2a4_1a95_11ea_8c83_14abc5ed6a0brow0_col4 {\n",
       "            background-color:  #445acc;\n",
       "            color:  #f1f1f1;\n",
       "        }    #T_7129e2a4_1a95_11ea_8c83_14abc5ed6a0brow0_col5 {\n",
       "            background-color:  #4257c9;\n",
       "            color:  #f1f1f1;\n",
       "        }    #T_7129e2a4_1a95_11ea_8c83_14abc5ed6a0brow0_col6 {\n",
       "            background-color:  #465ecf;\n",
       "            color:  #f1f1f1;\n",
       "        }    #T_7129e2a4_1a95_11ea_8c83_14abc5ed6a0brow0_col7 {\n",
       "            background-color:  #3b4cc0;\n",
       "            color:  #f1f1f1;\n",
       "        }    #T_7129e2a4_1a95_11ea_8c83_14abc5ed6a0brow1_col0 {\n",
       "            background-color:  #445acc;\n",
       "            color:  #f1f1f1;\n",
       "        }    #T_7129e2a4_1a95_11ea_8c83_14abc5ed6a0brow1_col1 {\n",
       "            background-color:  #b40426;\n",
       "            color:  #f1f1f1;\n",
       "        }    #T_7129e2a4_1a95_11ea_8c83_14abc5ed6a0brow1_col2 {\n",
       "            background-color:  #3c4ec2;\n",
       "            color:  #f1f1f1;\n",
       "        }    #T_7129e2a4_1a95_11ea_8c83_14abc5ed6a0brow1_col3 {\n",
       "            background-color:  #3b4cc0;\n",
       "            color:  #f1f1f1;\n",
       "        }    #T_7129e2a4_1a95_11ea_8c83_14abc5ed6a0brow1_col4 {\n",
       "            background-color:  #9ebeff;\n",
       "            color:  #000000;\n",
       "        }    #T_7129e2a4_1a95_11ea_8c83_14abc5ed6a0brow1_col5 {\n",
       "            background-color:  #d2dbe8;\n",
       "            color:  #000000;\n",
       "        }    #T_7129e2a4_1a95_11ea_8c83_14abc5ed6a0brow1_col6 {\n",
       "            background-color:  #5470de;\n",
       "            color:  #000000;\n",
       "        }    #T_7129e2a4_1a95_11ea_8c83_14abc5ed6a0brow1_col7 {\n",
       "            background-color:  #3e51c5;\n",
       "            color:  #f1f1f1;\n",
       "        }    #T_7129e2a4_1a95_11ea_8c83_14abc5ed6a0brow2_col0 {\n",
       "            background-color:  #3b4cc0;\n",
       "            color:  #f1f1f1;\n",
       "        }    #T_7129e2a4_1a95_11ea_8c83_14abc5ed6a0brow2_col1 {\n",
       "            background-color:  #3c4ec2;\n",
       "            color:  #f1f1f1;\n",
       "        }    #T_7129e2a4_1a95_11ea_8c83_14abc5ed6a0brow2_col2 {\n",
       "            background-color:  #b40426;\n",
       "            color:  #f1f1f1;\n",
       "        }    #T_7129e2a4_1a95_11ea_8c83_14abc5ed6a0brow2_col3 {\n",
       "            background-color:  #b40426;\n",
       "            color:  #f1f1f1;\n",
       "        }    #T_7129e2a4_1a95_11ea_8c83_14abc5ed6a0brow2_col4 {\n",
       "            background-color:  #506bda;\n",
       "            color:  #000000;\n",
       "        }    #T_7129e2a4_1a95_11ea_8c83_14abc5ed6a0brow2_col5 {\n",
       "            background-color:  #465ecf;\n",
       "            color:  #f1f1f1;\n",
       "        }    #T_7129e2a4_1a95_11ea_8c83_14abc5ed6a0brow2_col6 {\n",
       "            background-color:  #3f53c6;\n",
       "            color:  #f1f1f1;\n",
       "        }    #T_7129e2a4_1a95_11ea_8c83_14abc5ed6a0brow2_col7 {\n",
       "            background-color:  #3c4ec2;\n",
       "            color:  #f1f1f1;\n",
       "        }    #T_7129e2a4_1a95_11ea_8c83_14abc5ed6a0brow3_col0 {\n",
       "            background-color:  #3b4cc0;\n",
       "            color:  #f1f1f1;\n",
       "        }    #T_7129e2a4_1a95_11ea_8c83_14abc5ed6a0brow3_col1 {\n",
       "            background-color:  #3b4cc0;\n",
       "            color:  #f1f1f1;\n",
       "        }    #T_7129e2a4_1a95_11ea_8c83_14abc5ed6a0brow3_col2 {\n",
       "            background-color:  #b40426;\n",
       "            color:  #f1f1f1;\n",
       "        }    #T_7129e2a4_1a95_11ea_8c83_14abc5ed6a0brow3_col3 {\n",
       "            background-color:  #b40426;\n",
       "            color:  #f1f1f1;\n",
       "        }    #T_7129e2a4_1a95_11ea_8c83_14abc5ed6a0brow3_col4 {\n",
       "            background-color:  #506bda;\n",
       "            color:  #000000;\n",
       "        }    #T_7129e2a4_1a95_11ea_8c83_14abc5ed6a0brow3_col5 {\n",
       "            background-color:  #465ecf;\n",
       "            color:  #f1f1f1;\n",
       "        }    #T_7129e2a4_1a95_11ea_8c83_14abc5ed6a0brow3_col6 {\n",
       "            background-color:  #3b4cc0;\n",
       "            color:  #f1f1f1;\n",
       "        }    #T_7129e2a4_1a95_11ea_8c83_14abc5ed6a0brow3_col7 {\n",
       "            background-color:  #3c4ec2;\n",
       "            color:  #f1f1f1;\n",
       "        }    #T_7129e2a4_1a95_11ea_8c83_14abc5ed6a0brow4_col0 {\n",
       "            background-color:  #455cce;\n",
       "            color:  #f1f1f1;\n",
       "        }    #T_7129e2a4_1a95_11ea_8c83_14abc5ed6a0brow4_col1 {\n",
       "            background-color:  #9ebeff;\n",
       "            color:  #000000;\n",
       "        }    #T_7129e2a4_1a95_11ea_8c83_14abc5ed6a0brow4_col2 {\n",
       "            background-color:  #516ddb;\n",
       "            color:  #000000;\n",
       "        }    #T_7129e2a4_1a95_11ea_8c83_14abc5ed6a0brow4_col3 {\n",
       "            background-color:  #516ddb;\n",
       "            color:  #000000;\n",
       "        }    #T_7129e2a4_1a95_11ea_8c83_14abc5ed6a0brow4_col4 {\n",
       "            background-color:  #b40426;\n",
       "            color:  #f1f1f1;\n",
       "        }    #T_7129e2a4_1a95_11ea_8c83_14abc5ed6a0brow4_col5 {\n",
       "            background-color:  #bb1b2c;\n",
       "            color:  #f1f1f1;\n",
       "        }    #T_7129e2a4_1a95_11ea_8c83_14abc5ed6a0brow4_col6 {\n",
       "            background-color:  #3b4cc0;\n",
       "            color:  #f1f1f1;\n",
       "        }    #T_7129e2a4_1a95_11ea_8c83_14abc5ed6a0brow4_col7 {\n",
       "            background-color:  #3b4cc0;\n",
       "            color:  #f1f1f1;\n",
       "        }    #T_7129e2a4_1a95_11ea_8c83_14abc5ed6a0brow5_col0 {\n",
       "            background-color:  #455cce;\n",
       "            color:  #f1f1f1;\n",
       "        }    #T_7129e2a4_1a95_11ea_8c83_14abc5ed6a0brow5_col1 {\n",
       "            background-color:  #d3dbe7;\n",
       "            color:  #000000;\n",
       "        }    #T_7129e2a4_1a95_11ea_8c83_14abc5ed6a0brow5_col2 {\n",
       "            background-color:  #4a63d3;\n",
       "            color:  #f1f1f1;\n",
       "        }    #T_7129e2a4_1a95_11ea_8c83_14abc5ed6a0brow5_col3 {\n",
       "            background-color:  #4a63d3;\n",
       "            color:  #f1f1f1;\n",
       "        }    #T_7129e2a4_1a95_11ea_8c83_14abc5ed6a0brow5_col4 {\n",
       "            background-color:  #bb1b2c;\n",
       "            color:  #f1f1f1;\n",
       "        }    #T_7129e2a4_1a95_11ea_8c83_14abc5ed6a0brow5_col5 {\n",
       "            background-color:  #b40426;\n",
       "            color:  #f1f1f1;\n",
       "        }    #T_7129e2a4_1a95_11ea_8c83_14abc5ed6a0brow5_col6 {\n",
       "            background-color:  #3d50c3;\n",
       "            color:  #f1f1f1;\n",
       "        }    #T_7129e2a4_1a95_11ea_8c83_14abc5ed6a0brow5_col7 {\n",
       "            background-color:  #3b4cc0;\n",
       "            color:  #f1f1f1;\n",
       "        }    #T_7129e2a4_1a95_11ea_8c83_14abc5ed6a0brow6_col0 {\n",
       "            background-color:  #465ecf;\n",
       "            color:  #f1f1f1;\n",
       "        }    #T_7129e2a4_1a95_11ea_8c83_14abc5ed6a0brow6_col1 {\n",
       "            background-color:  #5470de;\n",
       "            color:  #000000;\n",
       "        }    #T_7129e2a4_1a95_11ea_8c83_14abc5ed6a0brow6_col2 {\n",
       "            background-color:  #4055c8;\n",
       "            color:  #f1f1f1;\n",
       "        }    #T_7129e2a4_1a95_11ea_8c83_14abc5ed6a0brow6_col3 {\n",
       "            background-color:  #3b4cc0;\n",
       "            color:  #f1f1f1;\n",
       "        }    #T_7129e2a4_1a95_11ea_8c83_14abc5ed6a0brow6_col4 {\n",
       "            background-color:  #3b4cc0;\n",
       "            color:  #f1f1f1;\n",
       "        }    #T_7129e2a4_1a95_11ea_8c83_14abc5ed6a0brow6_col5 {\n",
       "            background-color:  #3b4cc0;\n",
       "            color:  #f1f1f1;\n",
       "        }    #T_7129e2a4_1a95_11ea_8c83_14abc5ed6a0brow6_col6 {\n",
       "            background-color:  #b40426;\n",
       "            color:  #f1f1f1;\n",
       "        }    #T_7129e2a4_1a95_11ea_8c83_14abc5ed6a0brow6_col7 {\n",
       "            background-color:  #485fd1;\n",
       "            color:  #f1f1f1;\n",
       "        }    #T_7129e2a4_1a95_11ea_8c83_14abc5ed6a0brow7_col0 {\n",
       "            background-color:  #3e51c5;\n",
       "            color:  #f1f1f1;\n",
       "        }    #T_7129e2a4_1a95_11ea_8c83_14abc5ed6a0brow7_col1 {\n",
       "            background-color:  #4055c8;\n",
       "            color:  #f1f1f1;\n",
       "        }    #T_7129e2a4_1a95_11ea_8c83_14abc5ed6a0brow7_col2 {\n",
       "            background-color:  #3e51c5;\n",
       "            color:  #f1f1f1;\n",
       "        }    #T_7129e2a4_1a95_11ea_8c83_14abc5ed6a0brow7_col3 {\n",
       "            background-color:  #3e51c5;\n",
       "            color:  #f1f1f1;\n",
       "        }    #T_7129e2a4_1a95_11ea_8c83_14abc5ed6a0brow7_col4 {\n",
       "            background-color:  #3c4ec2;\n",
       "            color:  #f1f1f1;\n",
       "        }    #T_7129e2a4_1a95_11ea_8c83_14abc5ed6a0brow7_col5 {\n",
       "            background-color:  #3b4cc0;\n",
       "            color:  #f1f1f1;\n",
       "        }    #T_7129e2a4_1a95_11ea_8c83_14abc5ed6a0brow7_col6 {\n",
       "            background-color:  #4a63d3;\n",
       "            color:  #f1f1f1;\n",
       "        }    #T_7129e2a4_1a95_11ea_8c83_14abc5ed6a0brow7_col7 {\n",
       "            background-color:  #b40426;\n",
       "            color:  #f1f1f1;\n",
       "        }</style><table id=\"T_7129e2a4_1a95_11ea_8c83_14abc5ed6a0b\" ><thead>    <tr>        <th class=\"blank level0\" ></th>        <th class=\"col_heading level0 col0\" >step</th>        <th class=\"col_heading level0 col1\" >amount</th>        <th class=\"col_heading level0 col2\" >oldbalanceOrg</th>        <th class=\"col_heading level0 col3\" >newbalanceOrig</th>        <th class=\"col_heading level0 col4\" >oldbalanceDest</th>        <th class=\"col_heading level0 col5\" >newbalanceDest</th>        <th class=\"col_heading level0 col6\" >isFraud</th>        <th class=\"col_heading level0 col7\" >isFlaggedFraud</th>    </tr></thead><tbody>\n",
       "                <tr>\n",
       "                        <th id=\"T_7129e2a4_1a95_11ea_8c83_14abc5ed6a0blevel0_row0\" class=\"row_heading level0 row0\" >step</th>\n",
       "                        <td id=\"T_7129e2a4_1a95_11ea_8c83_14abc5ed6a0brow0_col0\" class=\"data row0 col0\" >1</td>\n",
       "                        <td id=\"T_7129e2a4_1a95_11ea_8c83_14abc5ed6a0brow0_col1\" class=\"data row0 col1\" >0.022</td>\n",
       "                        <td id=\"T_7129e2a4_1a95_11ea_8c83_14abc5ed6a0brow0_col2\" class=\"data row0 col2\" >-0.01</td>\n",
       "                        <td id=\"T_7129e2a4_1a95_11ea_8c83_14abc5ed6a0brow0_col3\" class=\"data row0 col3\" >-0.01</td>\n",
       "                        <td id=\"T_7129e2a4_1a95_11ea_8c83_14abc5ed6a0brow0_col4\" class=\"data row0 col4\" >0.028</td>\n",
       "                        <td id=\"T_7129e2a4_1a95_11ea_8c83_14abc5ed6a0brow0_col5\" class=\"data row0 col5\" >0.026</td>\n",
       "                        <td id=\"T_7129e2a4_1a95_11ea_8c83_14abc5ed6a0brow0_col6\" class=\"data row0 col6\" >0.032</td>\n",
       "                        <td id=\"T_7129e2a4_1a95_11ea_8c83_14abc5ed6a0brow0_col7\" class=\"data row0 col7\" >0.0033</td>\n",
       "            </tr>\n",
       "            <tr>\n",
       "                        <th id=\"T_7129e2a4_1a95_11ea_8c83_14abc5ed6a0blevel0_row1\" class=\"row_heading level0 row1\" >amount</th>\n",
       "                        <td id=\"T_7129e2a4_1a95_11ea_8c83_14abc5ed6a0brow1_col0\" class=\"data row1 col0\" >0.022</td>\n",
       "                        <td id=\"T_7129e2a4_1a95_11ea_8c83_14abc5ed6a0brow1_col1\" class=\"data row1 col1\" >1</td>\n",
       "                        <td id=\"T_7129e2a4_1a95_11ea_8c83_14abc5ed6a0brow1_col2\" class=\"data row1 col2\" >-0.0028</td>\n",
       "                        <td id=\"T_7129e2a4_1a95_11ea_8c83_14abc5ed6a0brow1_col3\" class=\"data row1 col3\" >-0.0079</td>\n",
       "                        <td id=\"T_7129e2a4_1a95_11ea_8c83_14abc5ed6a0brow1_col4\" class=\"data row1 col4\" >0.29</td>\n",
       "                        <td id=\"T_7129e2a4_1a95_11ea_8c83_14abc5ed6a0brow1_col5\" class=\"data row1 col5\" >0.46</td>\n",
       "                        <td id=\"T_7129e2a4_1a95_11ea_8c83_14abc5ed6a0brow1_col6\" class=\"data row1 col6\" >0.077</td>\n",
       "                        <td id=\"T_7129e2a4_1a95_11ea_8c83_14abc5ed6a0brow1_col7\" class=\"data row1 col7\" >0.012</td>\n",
       "            </tr>\n",
       "            <tr>\n",
       "                        <th id=\"T_7129e2a4_1a95_11ea_8c83_14abc5ed6a0blevel0_row2\" class=\"row_heading level0 row2\" >oldbalanceOrg</th>\n",
       "                        <td id=\"T_7129e2a4_1a95_11ea_8c83_14abc5ed6a0brow2_col0\" class=\"data row2 col0\" >-0.01</td>\n",
       "                        <td id=\"T_7129e2a4_1a95_11ea_8c83_14abc5ed6a0brow2_col1\" class=\"data row2 col1\" >-0.0028</td>\n",
       "                        <td id=\"T_7129e2a4_1a95_11ea_8c83_14abc5ed6a0brow2_col2\" class=\"data row2 col2\" >1</td>\n",
       "                        <td id=\"T_7129e2a4_1a95_11ea_8c83_14abc5ed6a0brow2_col3\" class=\"data row2 col3\" >1</td>\n",
       "                        <td id=\"T_7129e2a4_1a95_11ea_8c83_14abc5ed6a0brow2_col4\" class=\"data row2 col4\" >0.066</td>\n",
       "                        <td id=\"T_7129e2a4_1a95_11ea_8c83_14abc5ed6a0brow2_col5\" class=\"data row2 col5\" >0.042</td>\n",
       "                        <td id=\"T_7129e2a4_1a95_11ea_8c83_14abc5ed6a0brow2_col6\" class=\"data row2 col6\" >0.01</td>\n",
       "                        <td id=\"T_7129e2a4_1a95_11ea_8c83_14abc5ed6a0brow2_col7\" class=\"data row2 col7\" >0.0038</td>\n",
       "            </tr>\n",
       "            <tr>\n",
       "                        <th id=\"T_7129e2a4_1a95_11ea_8c83_14abc5ed6a0blevel0_row3\" class=\"row_heading level0 row3\" >newbalanceOrig</th>\n",
       "                        <td id=\"T_7129e2a4_1a95_11ea_8c83_14abc5ed6a0brow3_col0\" class=\"data row3 col0\" >-0.01</td>\n",
       "                        <td id=\"T_7129e2a4_1a95_11ea_8c83_14abc5ed6a0brow3_col1\" class=\"data row3 col1\" >-0.0079</td>\n",
       "                        <td id=\"T_7129e2a4_1a95_11ea_8c83_14abc5ed6a0brow3_col2\" class=\"data row3 col2\" >1</td>\n",
       "                        <td id=\"T_7129e2a4_1a95_11ea_8c83_14abc5ed6a0brow3_col3\" class=\"data row3 col3\" >1</td>\n",
       "                        <td id=\"T_7129e2a4_1a95_11ea_8c83_14abc5ed6a0brow3_col4\" class=\"data row3 col4\" >0.068</td>\n",
       "                        <td id=\"T_7129e2a4_1a95_11ea_8c83_14abc5ed6a0brow3_col5\" class=\"data row3 col5\" >0.042</td>\n",
       "                        <td id=\"T_7129e2a4_1a95_11ea_8c83_14abc5ed6a0brow3_col6\" class=\"data row3 col6\" >-0.0081</td>\n",
       "                        <td id=\"T_7129e2a4_1a95_11ea_8c83_14abc5ed6a0brow3_col7\" class=\"data row3 col7\" >0.0038</td>\n",
       "            </tr>\n",
       "            <tr>\n",
       "                        <th id=\"T_7129e2a4_1a95_11ea_8c83_14abc5ed6a0blevel0_row4\" class=\"row_heading level0 row4\" >oldbalanceDest</th>\n",
       "                        <td id=\"T_7129e2a4_1a95_11ea_8c83_14abc5ed6a0brow4_col0\" class=\"data row4 col0\" >0.028</td>\n",
       "                        <td id=\"T_7129e2a4_1a95_11ea_8c83_14abc5ed6a0brow4_col1\" class=\"data row4 col1\" >0.29</td>\n",
       "                        <td id=\"T_7129e2a4_1a95_11ea_8c83_14abc5ed6a0brow4_col2\" class=\"data row4 col2\" >0.066</td>\n",
       "                        <td id=\"T_7129e2a4_1a95_11ea_8c83_14abc5ed6a0brow4_col3\" class=\"data row4 col3\" >0.068</td>\n",
       "                        <td id=\"T_7129e2a4_1a95_11ea_8c83_14abc5ed6a0brow4_col4\" class=\"data row4 col4\" >1</td>\n",
       "                        <td id=\"T_7129e2a4_1a95_11ea_8c83_14abc5ed6a0brow4_col5\" class=\"data row4 col5\" >0.98</td>\n",
       "                        <td id=\"T_7129e2a4_1a95_11ea_8c83_14abc5ed6a0brow4_col6\" class=\"data row4 col6\" >-0.0059</td>\n",
       "                        <td id=\"T_7129e2a4_1a95_11ea_8c83_14abc5ed6a0brow4_col7\" class=\"data row4 col7\" >-0.00051</td>\n",
       "            </tr>\n",
       "            <tr>\n",
       "                        <th id=\"T_7129e2a4_1a95_11ea_8c83_14abc5ed6a0blevel0_row5\" class=\"row_heading level0 row5\" >newbalanceDest</th>\n",
       "                        <td id=\"T_7129e2a4_1a95_11ea_8c83_14abc5ed6a0brow5_col0\" class=\"data row5 col0\" >0.026</td>\n",
       "                        <td id=\"T_7129e2a4_1a95_11ea_8c83_14abc5ed6a0brow5_col1\" class=\"data row5 col1\" >0.46</td>\n",
       "                        <td id=\"T_7129e2a4_1a95_11ea_8c83_14abc5ed6a0brow5_col2\" class=\"data row5 col2\" >0.042</td>\n",
       "                        <td id=\"T_7129e2a4_1a95_11ea_8c83_14abc5ed6a0brow5_col3\" class=\"data row5 col3\" >0.042</td>\n",
       "                        <td id=\"T_7129e2a4_1a95_11ea_8c83_14abc5ed6a0brow5_col4\" class=\"data row5 col4\" >0.98</td>\n",
       "                        <td id=\"T_7129e2a4_1a95_11ea_8c83_14abc5ed6a0brow5_col5\" class=\"data row5 col5\" >1</td>\n",
       "                        <td id=\"T_7129e2a4_1a95_11ea_8c83_14abc5ed6a0brow5_col6\" class=\"data row5 col6\" >0.00054</td>\n",
       "                        <td id=\"T_7129e2a4_1a95_11ea_8c83_14abc5ed6a0brow5_col7\" class=\"data row5 col7\" >-0.00053</td>\n",
       "            </tr>\n",
       "            <tr>\n",
       "                        <th id=\"T_7129e2a4_1a95_11ea_8c83_14abc5ed6a0blevel0_row6\" class=\"row_heading level0 row6\" >isFraud</th>\n",
       "                        <td id=\"T_7129e2a4_1a95_11ea_8c83_14abc5ed6a0brow6_col0\" class=\"data row6 col0\" >0.032</td>\n",
       "                        <td id=\"T_7129e2a4_1a95_11ea_8c83_14abc5ed6a0brow6_col1\" class=\"data row6 col1\" >0.077</td>\n",
       "                        <td id=\"T_7129e2a4_1a95_11ea_8c83_14abc5ed6a0brow6_col2\" class=\"data row6 col2\" >0.01</td>\n",
       "                        <td id=\"T_7129e2a4_1a95_11ea_8c83_14abc5ed6a0brow6_col3\" class=\"data row6 col3\" >-0.0081</td>\n",
       "                        <td id=\"T_7129e2a4_1a95_11ea_8c83_14abc5ed6a0brow6_col4\" class=\"data row6 col4\" >-0.0059</td>\n",
       "                        <td id=\"T_7129e2a4_1a95_11ea_8c83_14abc5ed6a0brow6_col5\" class=\"data row6 col5\" >0.00054</td>\n",
       "                        <td id=\"T_7129e2a4_1a95_11ea_8c83_14abc5ed6a0brow6_col6\" class=\"data row6 col6\" >1</td>\n",
       "                        <td id=\"T_7129e2a4_1a95_11ea_8c83_14abc5ed6a0brow6_col7\" class=\"data row6 col7\" >0.044</td>\n",
       "            </tr>\n",
       "            <tr>\n",
       "                        <th id=\"T_7129e2a4_1a95_11ea_8c83_14abc5ed6a0blevel0_row7\" class=\"row_heading level0 row7\" >isFlaggedFraud</th>\n",
       "                        <td id=\"T_7129e2a4_1a95_11ea_8c83_14abc5ed6a0brow7_col0\" class=\"data row7 col0\" >0.0033</td>\n",
       "                        <td id=\"T_7129e2a4_1a95_11ea_8c83_14abc5ed6a0brow7_col1\" class=\"data row7 col1\" >0.012</td>\n",
       "                        <td id=\"T_7129e2a4_1a95_11ea_8c83_14abc5ed6a0brow7_col2\" class=\"data row7 col2\" >0.0038</td>\n",
       "                        <td id=\"T_7129e2a4_1a95_11ea_8c83_14abc5ed6a0brow7_col3\" class=\"data row7 col3\" >0.0038</td>\n",
       "                        <td id=\"T_7129e2a4_1a95_11ea_8c83_14abc5ed6a0brow7_col4\" class=\"data row7 col4\" >-0.00051</td>\n",
       "                        <td id=\"T_7129e2a4_1a95_11ea_8c83_14abc5ed6a0brow7_col5\" class=\"data row7 col5\" >-0.00053</td>\n",
       "                        <td id=\"T_7129e2a4_1a95_11ea_8c83_14abc5ed6a0brow7_col6\" class=\"data row7 col6\" >0.044</td>\n",
       "                        <td id=\"T_7129e2a4_1a95_11ea_8c83_14abc5ed6a0brow7_col7\" class=\"data row7 col7\" >1</td>\n",
       "            </tr>\n",
       "    </tbody></table>"
      ],
      "text/plain": [
       "<pandas.io.formats.style.Styler at 0x23b1c261940>"
      ]
     },
     "metadata": {},
     "output_type": "display_data"
    }
   ],
   "source": [
    "ds = pd.read_csv('set.csv')\n",
    "british_quality(ds)"
   ]
  },
  {
   "cell_type": "markdown",
   "metadata": {},
   "source": [
    "### What is the distribution of the outcome? "
   ]
  },
  {
   "cell_type": "code",
   "execution_count": 4,
   "metadata": {
    "scrolled": true
   },
   "outputs": [
    {
     "data": {
      "text/plain": [
       "array([[<matplotlib.axes._subplots.AxesSubplot object at 0x0000023B1C2A5B00>,\n",
       "        <matplotlib.axes._subplots.AxesSubplot object at 0x0000023B1C30B400>,\n",
       "        <matplotlib.axes._subplots.AxesSubplot object at 0x0000023B1C336978>],\n",
       "       [<matplotlib.axes._subplots.AxesSubplot object at 0x0000023B1C365F28>,\n",
       "        <matplotlib.axes._subplots.AxesSubplot object at 0x0000023B1C39B518>,\n",
       "        <matplotlib.axes._subplots.AxesSubplot object at 0x0000023B1C3C6AC8>],\n",
       "       [<matplotlib.axes._subplots.AxesSubplot object at 0x0000023B1C3FF0B8>,\n",
       "        <matplotlib.axes._subplots.AxesSubplot object at 0x0000023B1C42E6A0>,\n",
       "        <matplotlib.axes._subplots.AxesSubplot object at 0x0000023B1C42E6D8>]],\n",
       "      dtype=object)"
      ]
     },
     "execution_count": 4,
     "metadata": {},
     "output_type": "execute_result"
    },
    {
     "data": {
      "image/png": "[encoded data removed]",
      "text/plain": [
       "<Figure size 432x288 with 9 Axes>"
      ]
     },
     "metadata": {
      "needs_background": "light"
     },
     "output_type": "display_data"
    }
   ],
   "source": [
    "ds.hist()"
   ]
  },
  {
   "cell_type": "markdown",
   "metadata": {},
   "source": [
    "### Clean the dataset. How are you going to integrate the time variable? Do you think the step (integer) coding in which it is given is appropriate?"
   ]
  },
  {
   "cell_type": "code",
   "execution_count": 18,
   "metadata": {
    "scrolled": true
   },
   "outputs": [
    {
     "data": {
      "text/plain": [
       "Index(['step', 'type', 'amount', 'nameOrig', 'oldbalanceOrg', 'newbalanceOrig',\n",
       "       'nameDest', 'oldbalanceDest', 'newbalanceDest', 'isFraud',\n",
       "       'isFlaggedFraud'],\n",
       "      dtype='object')"
      ]
     },
     "execution_count": 18,
     "metadata": {},
     "output_type": "execute_result"
    }
   ],
   "source": [
    "#### I would organize it on paymentmethode and apply machine learning per type. ds['type'].value_counts()"
   ]
  },
  {
   "cell_type": "code",
   "execution_count": 35,
   "metadata": {},
   "outputs": [
    {
     "data": {
      "text/plain": [
       "CASH_OUT    2237500\n",
       "PAYMENT     2151495\n",
       "CASH_IN     1399284\n",
       "TRANSFER     532909\n",
       "DEBIT         41432\n",
       "Name: type, dtype: int64"
      ]
     },
     "execution_count": 35,
     "metadata": {},
     "output_type": "execute_result"
    }
   ],
   "source": [
    "ds['type'].value_counts()"
   ]
  },
  {
   "cell_type": "code",
   "execution_count": 51,
   "metadata": {},
   "outputs": [],
   "source": [
    "cash_out = ds[(ds['type'] == 'CASH_OUT')].drop(['type', 'nameOrig', 'nameDest'], axis=1)\n",
    "payment = ds[(ds['type'] == 'PAYMENT')].drop(['type', 'nameOrig', 'nameDest'], axis=1)\n",
    "cash_in = ds[(ds['type'] == 'CASH_IN')].drop(['type', 'nameOrig', 'nameDest'], axis=1)\n",
    "transfer = ds[(ds['type'] == 'TRANSFER')].drop(['type', 'nameOrig', 'nameDest'], axis=1)\n",
    "debit = ds[(ds['type'] == 'DEBIT')].drop(['type', 'nameOrig', 'nameDest'], axis=1)"
   ]
  },
  {
   "cell_type": "markdown",
   "metadata": {},
   "source": [
    "### Run a logisitc regression classifier and evaluate its accuracy."
   ]
  },
  {
   "cell_type": "code",
   "execution_count": 58,
   "metadata": {},
   "outputs": [
    {
     "data": {
      "text/plain": [
       "0.009831475350035923"
      ]
     },
     "execution_count": 58,
     "metadata": {},
     "output_type": "execute_result"
    }
   ],
   "source": [
    "X = cash_out.drop('step', axis=1).values \n",
    "y = cash_out['step'].values\n",
    "scaler = StandardScaler()\n",
    "X_std = scaler.fit_transform(X)\n",
    "regr = LinearRegression()\n",
    "model = regr.fit(X_std, y)\n",
    "X_train, X_test, y_train, y_test = train_test_split(X_std, y, test_size=0.25, random_state = 29)\n",
    "model.score(X_test, y_test)\n"
   ]
  },
  {
   "cell_type": "code",
   "execution_count": 59,
   "metadata": {},
   "outputs": [
    {
     "data": {
      "text/plain": [
       "0.009568195485601616"
      ]
     },
     "execution_count": 59,
     "metadata": {},
     "output_type": "execute_result"
    }
   ],
   "source": [
    "X = payment.drop('step', axis=1).values \n",
    "y = payment['step'].values\n",
    "scaler = StandardScaler()\n",
    "X_std = scaler.fit_transform(X)\n",
    "regr = LinearRegression()\n",
    "model = regr.fit(X_std, y)\n",
    "X_train, X_test, y_train, y_test = train_test_split(X_std, y, test_size=0.25, random_state = 29)\n",
    "model.score(X_test, y_test)"
   ]
  },
  {
   "cell_type": "code",
   "execution_count": 60,
   "metadata": {},
   "outputs": [
    {
     "data": {
      "text/plain": [
       "0.007971513538647113"
      ]
     },
     "execution_count": 60,
     "metadata": {},
     "output_type": "execute_result"
    }
   ],
   "source": [
    "X = cash_in.drop('step', axis=1).values \n",
    "y = cash_in['step'].values\n",
    "scaler = StandardScaler()\n",
    "X_std = scaler.fit_transform(X)\n",
    "regr = LinearRegression()\n",
    "model = regr.fit(X_std, y)\n",
    "X_train, X_test, y_train, y_test = train_test_split(X_std, y, test_size=0.25, random_state = 29)\n",
    "model.score(X_test, y_test)"
   ]
  },
  {
   "cell_type": "code",
   "execution_count": 61,
   "metadata": {},
   "outputs": [
    {
     "data": {
      "text/plain": [
       "0.013903388770163285"
      ]
     },
     "execution_count": 61,
     "metadata": {},
     "output_type": "execute_result"
    }
   ],
   "source": [
    "X = transfer.drop('step', axis=1).values \n",
    "y = transfer['step'].values\n",
    "scaler = StandardScaler()\n",
    "X_std = scaler.fit_transform(X)\n",
    "regr = LinearRegression()\n",
    "model = regr.fit(X_std, y)\n",
    "X_train, X_test, y_train, y_test = train_test_split(X_std, y, test_size=0.25, random_state = 29)\n",
    "model.score(X_test, y_test)"
   ]
  },
  {
   "cell_type": "code",
   "execution_count": 62,
   "metadata": {},
   "outputs": [
    {
     "data": {
      "text/plain": [
       "0.008607940927457203"
      ]
     },
     "execution_count": 62,
     "metadata": {},
     "output_type": "execute_result"
    }
   ],
   "source": [
    "X = debit.drop('step', axis=1).values \n",
    "y = debit['step'].values\n",
    "scaler = StandardScaler()\n",
    "X_std = scaler.fit_transform(X)\n",
    "regr = LinearRegression()\n",
    "model = regr.fit(X_std, y)\n",
    "X_train, X_test, y_train, y_test = train_test_split(X_std, y, test_size=0.25, random_state = 29)\n",
    "model.score(X_test, y_test)"
   ]
  },
  {
   "cell_type": "code",
   "execution_count": null,
   "metadata": {},
   "outputs": [],
   "source": [
    "###the scores for accuracy are really low. "
   ]
  },
  {
   "cell_type": "markdown",
   "metadata": {},
   "source": [
    "### Now pick a model of your choice and evaluate its accuracy."
   ]
  },
  {
   "cell_type": "code",
   "execution_count": 64,
   "metadata": {},
   "outputs": [
    {
     "data": {
      "text/plain": [
       "-0.8790536718206358"
      ]
     },
     "execution_count": 64,
     "metadata": {},
     "output_type": "execute_result"
    }
   ],
   "source": [
    "from sklearn.tree import DecisionTreeRegressor\n",
    "from sklearn import datasets\n",
    "X = cash_out.drop('step', axis=1).values \n",
    "y = cash_out['step'].values\n",
    "regr = DecisionTreeRegressor(random_state = 29)\n",
    "X_train, X_test, y_train, y_test = train_test_split(X, y, test_size=0.25, random_state = 29)\n",
    "model = regr.fit(X_train, y_train)\n",
    "regr.score(X_test, y_test)"
   ]
  },
  {
   "cell_type": "code",
   "execution_count": 65,
   "metadata": {},
   "outputs": [
    {
     "data": {
      "text/plain": [
       "-0.9905763477637576"
      ]
     },
     "execution_count": 65,
     "metadata": {},
     "output_type": "execute_result"
    }
   ],
   "source": [
    "X = payment.drop('step', axis=1).values \n",
    "y = payment['step'].values\n",
    "regr = DecisionTreeRegressor(random_state = 29)\n",
    "X_train, X_test, y_train, y_test = train_test_split(X, y, test_size=0.25, random_state = 29)\n",
    "model = regr.fit(X_train, y_train)\n",
    "regr.score(X_test, y_test)"
   ]
  },
  {
   "cell_type": "code",
   "execution_count": 66,
   "metadata": {},
   "outputs": [
    {
     "data": {
      "text/plain": [
       "-0.9453785508307733"
      ]
     },
     "execution_count": 66,
     "metadata": {},
     "output_type": "execute_result"
    }
   ],
   "source": [
    "X = cash_in.drop('step', axis=1).values \n",
    "y = cash_in['step'].values\n",
    "regr = DecisionTreeRegressor(random_state = 29)\n",
    "X_train, X_test, y_train, y_test = train_test_split(X, y, test_size=0.25, random_state = 29)\n",
    "model = regr.fit(X_train, y_train)\n",
    "regr.score(X_test, y_test)"
   ]
  },
  {
   "cell_type": "code",
   "execution_count": 67,
   "metadata": {},
   "outputs": [
    {
     "data": {
      "text/plain": [
       "-0.8706615482456038"
      ]
     },
     "execution_count": 67,
     "metadata": {},
     "output_type": "execute_result"
    }
   ],
   "source": [
    "X = transfer.drop('step', axis=1).values \n",
    "y = transfer['step'].values\n",
    "regr = DecisionTreeRegressor(random_state = 29)\n",
    "X_train, X_test, y_train, y_test = train_test_split(X, y, test_size=0.25, random_state = 29)\n",
    "model = regr.fit(X_train, y_train)\n",
    "regr.score(X_test, y_test)"
   ]
  },
  {
   "cell_type": "code",
   "execution_count": 68,
   "metadata": {},
   "outputs": [
    {
     "data": {
      "text/plain": [
       "-0.969602498152927"
      ]
     },
     "execution_count": 68,
     "metadata": {},
     "output_type": "execute_result"
    }
   ],
   "source": [
    "X = debit.drop('step', axis=1).values \n",
    "y = debit['step'].values\n",
    "regr = DecisionTreeRegressor(random_state = 29)\n",
    "X_train, X_test, y_train, y_test = train_test_split(X, y, test_size=0.25, random_state = 29)\n",
    "model = regr.fit(X_train, y_train)\n",
    "regr.score(X_test, y_test)"
   ]
  },
  {
   "cell_type": "markdown",
   "metadata": {},
   "source": [
    "### Which model worked better and how do you know?"
   ]
  },
  {
   "cell_type": "code",
   "execution_count": 9,
   "metadata": {},
   "outputs": [],
   "source": [
    "### the desicion tree works better, but there is a strong negative R2 which means that the correlation is negative\n",
    "### Which is a bit hard to interpretert, but it would still be a too little precision to detect fraud compeletely \n",
    "### by machines, a bit of human work would be needed. "
   ]
  }
 ],
 "metadata": {
  "kernelspec": {
   "display_name": "Python 3",
   "language": "python",
   "name": "python3"
  },
  "language_info": {
   "codemirror_mode": {
    "name": "ipython",
    "version": 3
   },
   "file_extension": ".py",
   "mimetype": "text/x-python",
   "name": "python",
   "nbconvert_exporter": "python",
   "pygments_lexer": "ipython3",
   "version": "3.7.3"
  }
 },
 "nbformat": 4,
 "nbformat_minor": 2
}
